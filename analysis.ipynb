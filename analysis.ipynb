{
  "nbformat": 4,
  "nbformat_minor": 0,
  "metadata": {
    "colab": {
      "name": "analysis",
      "provenance": [],
      "collapsed_sections": [],
      "mount_file_id": "1WLuPtrkthCF7r1NxT1P0nZyLutZYIVKb",
      "authorship_tag": "ABX9TyNcMNH1LmiH2lGCQ2omnsZA",
      "include_colab_link": true
    },
    "kernelspec": {
      "name": "python3",
      "display_name": "Python 3"
    },
    "language_info": {
      "name": "python"
    }
  },
  "cells": [
    {
      "cell_type": "markdown",
      "metadata": {
        "id": "view-in-github",
        "colab_type": "text"
      },
      "source": [
        "<a href=\"https://colab.research.google.com/github/Git053/Limit-Orderbook/blob/main/analysis.ipynb\" target=\"_parent\"><img src=\"https://colab.research.google.com/assets/colab-badge.svg\" alt=\"Open In Colab\"/></a>"
      ]
    },
    {
      "cell_type": "code",
      "metadata": {
        "id": "pvAvAWWDP0Gg"
      },
      "source": [
        "import pandas as pd\n",
        "import numpy as np\n",
        "import matplotlib.pyplot as plt\n",
        "import matplotlib.dates as mdates\n",
        "from decimal import Decimal\n",
        "import os\n"
      ],
      "execution_count": 42,
      "outputs": []
    },
    {
      "cell_type": "code",
      "metadata": {
        "colab": {
          "base_uri": "https://localhost:8080/"
        },
        "id": "ClJBWH37R68H",
        "outputId": "0d06730c-3a6d-47a0-cb81-5736aa2a1014"
      },
      "source": [
        "from google.colab import drive\n",
        "drive.mount('/content/drive')\n",
        "\n"
      ],
      "execution_count": 43,
      "outputs": [
        {
          "output_type": "stream",
          "name": "stdout",
          "text": [
            "Drive already mounted at /content/drive; to attempt to forcibly remount, call drive.mount(\"/content/drive\", force_remount=True).\n"
          ]
        }
      ]
    },
    {
      "cell_type": "code",
      "metadata": {
        "colab": {
          "base_uri": "https://localhost:8080/",
          "height": 226
        },
        "id": "dlLitscNWyUP",
        "outputId": "5c271db6-9c70-4b17-8509-1358b4333e49"
      },
      "source": [
        "import pandas as pd \n",
        "df = pd.read_csv('/content/drive/MyDrive/data/train.csv', sep=',', parse_dates=[\"id\"])\n",
        "\n",
        "df.head()\n"
      ],
      "execution_count": 44,
      "outputs": [
        {
          "output_type": "execute_result",
          "data": {
            "text/html": [
              "<div>\n",
              "<style scoped>\n",
              "    .dataframe tbody tr th:only-of-type {\n",
              "        vertical-align: middle;\n",
              "    }\n",
              "\n",
              "    .dataframe tbody tr th {\n",
              "        vertical-align: top;\n",
              "    }\n",
              "\n",
              "    .dataframe thead th {\n",
              "        text-align: right;\n",
              "    }\n",
              "</style>\n",
              "<table border=\"1\" class=\"dataframe\">\n",
              "  <thead>\n",
              "    <tr style=\"text-align: right;\">\n",
              "      <th></th>\n",
              "      <th>id</th>\n",
              "      <th>last_price</th>\n",
              "      <th>mid</th>\n",
              "      <th>opened_position_qty</th>\n",
              "      <th>closed_position_qty</th>\n",
              "      <th>transacted_qty</th>\n",
              "      <th>d_open_interest</th>\n",
              "      <th>bid1</th>\n",
              "      <th>bid2</th>\n",
              "      <th>bid3</th>\n",
              "      <th>bid4</th>\n",
              "      <th>bid5</th>\n",
              "      <th>ask1</th>\n",
              "      <th>ask2</th>\n",
              "      <th>ask3</th>\n",
              "      <th>ask4</th>\n",
              "      <th>ask5</th>\n",
              "      <th>bid1vol</th>\n",
              "      <th>bid2vol</th>\n",
              "      <th>bid3vol</th>\n",
              "      <th>bid4vol</th>\n",
              "      <th>bid5vol</th>\n",
              "      <th>ask1vol</th>\n",
              "      <th>ask2vol</th>\n",
              "      <th>ask3vol</th>\n",
              "      <th>ask4vol</th>\n",
              "      <th>ask5vol</th>\n",
              "      <th>y</th>\n",
              "    </tr>\n",
              "  </thead>\n",
              "  <tbody>\n",
              "    <tr>\n",
              "      <th>0</th>\n",
              "      <td>0</td>\n",
              "      <td>3842.4</td>\n",
              "      <td>3842.6</td>\n",
              "      <td>NaN</td>\n",
              "      <td>NaN</td>\n",
              "      <td>103.0</td>\n",
              "      <td>0</td>\n",
              "      <td>3842.4</td>\n",
              "      <td>3842.0</td>\n",
              "      <td>3841.8</td>\n",
              "      <td>3841.0</td>\n",
              "      <td>3840.4</td>\n",
              "      <td>3842.8</td>\n",
              "      <td>3843.4</td>\n",
              "      <td>3843.6</td>\n",
              "      <td>3843.8</td>\n",
              "      <td>3844.0</td>\n",
              "      <td>8</td>\n",
              "      <td>1</td>\n",
              "      <td>6</td>\n",
              "      <td>14</td>\n",
              "      <td>6</td>\n",
              "      <td>6</td>\n",
              "      <td>1</td>\n",
              "      <td>1</td>\n",
              "      <td>10</td>\n",
              "      <td>2</td>\n",
              "      <td>1</td>\n",
              "    </tr>\n",
              "    <tr>\n",
              "      <th>1</th>\n",
              "      <td>1</td>\n",
              "      <td>3842.8</td>\n",
              "      <td>3843.4</td>\n",
              "      <td>6.0</td>\n",
              "      <td>49.0</td>\n",
              "      <td>55.0</td>\n",
              "      <td>-43</td>\n",
              "      <td>3843.0</td>\n",
              "      <td>3842.8</td>\n",
              "      <td>3842.4</td>\n",
              "      <td>3842.0</td>\n",
              "      <td>3841.8</td>\n",
              "      <td>3843.8</td>\n",
              "      <td>3844.0</td>\n",
              "      <td>3844.4</td>\n",
              "      <td>3844.6</td>\n",
              "      <td>3844.8</td>\n",
              "      <td>7</td>\n",
              "      <td>6</td>\n",
              "      <td>11</td>\n",
              "      <td>1</td>\n",
              "      <td>6</td>\n",
              "      <td>1</td>\n",
              "      <td>4</td>\n",
              "      <td>4</td>\n",
              "      <td>1</td>\n",
              "      <td>13</td>\n",
              "      <td>0</td>\n",
              "    </tr>\n",
              "    <tr>\n",
              "      <th>2</th>\n",
              "      <td>2</td>\n",
              "      <td>3844.0</td>\n",
              "      <td>3844.3</td>\n",
              "      <td>7.0</td>\n",
              "      <td>77.0</td>\n",
              "      <td>84.0</td>\n",
              "      <td>-69</td>\n",
              "      <td>3843.8</td>\n",
              "      <td>3843.6</td>\n",
              "      <td>3843.2</td>\n",
              "      <td>3843.0</td>\n",
              "      <td>3842.8</td>\n",
              "      <td>3844.8</td>\n",
              "      <td>3845.0</td>\n",
              "      <td>3845.4</td>\n",
              "      <td>3845.6</td>\n",
              "      <td>3845.8</td>\n",
              "      <td>3</td>\n",
              "      <td>1</td>\n",
              "      <td>4</td>\n",
              "      <td>21</td>\n",
              "      <td>12</td>\n",
              "      <td>1</td>\n",
              "      <td>16</td>\n",
              "      <td>10</td>\n",
              "      <td>4</td>\n",
              "      <td>9</td>\n",
              "      <td>0</td>\n",
              "    </tr>\n",
              "    <tr>\n",
              "      <th>3</th>\n",
              "      <td>3</td>\n",
              "      <td>3843.8</td>\n",
              "      <td>3843.4</td>\n",
              "      <td>3.0</td>\n",
              "      <td>34.0</td>\n",
              "      <td>37.0</td>\n",
              "      <td>-30</td>\n",
              "      <td>3843.0</td>\n",
              "      <td>3842.8</td>\n",
              "      <td>3842.4</td>\n",
              "      <td>3842.0</td>\n",
              "      <td>3841.4</td>\n",
              "      <td>3843.8</td>\n",
              "      <td>3844.0</td>\n",
              "      <td>3844.4</td>\n",
              "      <td>3844.6</td>\n",
              "      <td>3844.8</td>\n",
              "      <td>10</td>\n",
              "      <td>13</td>\n",
              "      <td>12</td>\n",
              "      <td>2</td>\n",
              "      <td>4</td>\n",
              "      <td>2</td>\n",
              "      <td>7</td>\n",
              "      <td>1</td>\n",
              "      <td>2</td>\n",
              "      <td>11</td>\n",
              "      <td>1</td>\n",
              "    </tr>\n",
              "    <tr>\n",
              "      <th>4</th>\n",
              "      <td>4</td>\n",
              "      <td>3843.2</td>\n",
              "      <td>3843.1</td>\n",
              "      <td>3.0</td>\n",
              "      <td>38.0</td>\n",
              "      <td>41.0</td>\n",
              "      <td>-35</td>\n",
              "      <td>3842.8</td>\n",
              "      <td>3842.4</td>\n",
              "      <td>3842.0</td>\n",
              "      <td>3841.8</td>\n",
              "      <td>3841.4</td>\n",
              "      <td>3843.4</td>\n",
              "      <td>3844.0</td>\n",
              "      <td>3844.6</td>\n",
              "      <td>3844.8</td>\n",
              "      <td>3845.0</td>\n",
              "      <td>14</td>\n",
              "      <td>12</td>\n",
              "      <td>2</td>\n",
              "      <td>2</td>\n",
              "      <td>4</td>\n",
              "      <td>1</td>\n",
              "      <td>3</td>\n",
              "      <td>1</td>\n",
              "      <td>11</td>\n",
              "      <td>15</td>\n",
              "      <td>1</td>\n",
              "    </tr>\n",
              "  </tbody>\n",
              "</table>\n",
              "</div>"
            ],
            "text/plain": [
              "  id  last_price     mid  opened_position_qty   ...  ask3vol  ask4vol  ask5vol  y\n",
              "0  0      3842.4  3842.6                   NaN  ...        1       10        2  1\n",
              "1  1      3842.8  3843.4                   6.0  ...        4        1       13  0\n",
              "2  2      3844.0  3844.3                   7.0  ...       10        4        9  0\n",
              "3  3      3843.8  3843.4                   3.0  ...        1        2       11  1\n",
              "4  4      3843.2  3843.1                   3.0  ...        1       11       15  1\n",
              "\n",
              "[5 rows x 28 columns]"
            ]
          },
          "metadata": {},
          "execution_count": 44
        }
      ]
    },
    {
      "cell_type": "code",
      "metadata": {
        "colab": {
          "base_uri": "https://localhost:8080/",
          "height": 612
        },
        "id": "daTehFu31AFR",
        "outputId": "937926c2-dfd2-4e5b-e61d-1653d8cf3c33"
      },
      "source": [
        "plt.hist(df.mid, bins=50)"
      ],
      "execution_count": 45,
      "outputs": [
        {
          "output_type": "execute_result",
          "data": {
            "text/plain": [
              "(array([1.2200e+03, 4.0880e+03, 7.2500e+03, 1.1822e+04, 2.2356e+04,\n",
              "        2.6007e+04, 7.8410e+03, 1.7000e+01, 2.6500e+03, 8.1190e+03,\n",
              "        5.5170e+03, 9.1470e+03, 1.5662e+04, 3.2597e+04, 4.2479e+04,\n",
              "        4.1335e+04, 3.0420e+03, 2.8600e+02, 0.0000e+00, 2.0000e+00,\n",
              "        5.0200e+02, 9.7700e+02, 5.0270e+03, 9.6280e+03, 6.1530e+03,\n",
              "        7.7480e+03, 1.0513e+04, 1.1037e+04, 1.4459e+04, 1.8838e+04,\n",
              "        1.7860e+04, 1.8008e+04, 1.2549e+04, 1.6781e+04, 1.5614e+04,\n",
              "        1.6394e+04, 1.1965e+04, 2.3006e+04, 2.5302e+04, 2.0009e+04,\n",
              "        2.6126e+04, 1.1508e+04, 5.1190e+03, 3.3840e+03, 6.7200e+03,\n",
              "        1.5072e+04, 1.1974e+04, 4.5680e+03, 3.3140e+03, 7.8800e+02]),\n",
              " array([3812.1  , 3818.178, 3824.256, 3830.334, 3836.412, 3842.49 ,\n",
              "        3848.568, 3854.646, 3860.724, 3866.802, 3872.88 , 3878.958,\n",
              "        3885.036, 3891.114, 3897.192, 3903.27 , 3909.348, 3915.426,\n",
              "        3921.504, 3927.582, 3933.66 , 3939.738, 3945.816, 3951.894,\n",
              "        3957.972, 3964.05 , 3970.128, 3976.206, 3982.284, 3988.362,\n",
              "        3994.44 , 4000.518, 4006.596, 4012.674, 4018.752, 4024.83 ,\n",
              "        4030.908, 4036.986, 4043.064, 4049.142, 4055.22 , 4061.298,\n",
              "        4067.376, 4073.454, 4079.532, 4085.61 , 4091.688, 4097.766,\n",
              "        4103.844, 4109.922, 4116.   ]),\n",
              " <a list of 50 Patch objects>)"
            ]
          },
          "metadata": {},
          "execution_count": 45
        },
        {
          "output_type": "display_data",
          "data": {
            "image/png": "[encoded data removed]",
            "text/plain": [
              "<Figure size 432x288 with 1 Axes>"
            ]
          },
          "metadata": {
            "needs_background": "light"
          }
        }
      ]
    },
    {
      "cell_type": "code",
      "metadata": {
        "id": "-LvDdCfc2fwG"
      },
      "source": [
        "df['total_bid_amount']= (df.bid1vol+df.bid2vol+df.bid3vol+df.bid4vol+df.bid5vol)"
      ],
      "execution_count": 46,
      "outputs": []
    },
    {
      "cell_type": "code",
      "metadata": {
        "id": "U5AT8Im8CBaj"
      },
      "source": [
        "df['total_ask_amount']= (df.ask1vol+df.ask2vol+df.ask3vol+df.ask4vol+df.ask5vol)\n",
        "df['imbalance'] = (df.total_bid_amount-df.total_ask_amount) / (df.total_bid_amount+df.total_ask_amount)\n"
      ],
      "execution_count": 47,
      "outputs": []
    },
    {
      "cell_type": "code",
      "metadata": {
        "colab": {
          "base_uri": "https://localhost:8080/",
          "height": 299
        },
        "id": "8yVjhbo87_9D",
        "outputId": "a06c1047-b4e3-4e26-df7c-277443bf5d5b"
      },
      "source": [
        "plt.hist(df.imbalance, bins=50)\n",
        "plt.title('orderbook imbalance distribution')"
      ],
      "execution_count": 48,
      "outputs": [
        {
          "output_type": "execute_result",
          "data": {
            "text/plain": [
              "Text(0.5, 1.0, 'orderbook imbalance distribution')"
            ]
          },
          "metadata": {},
          "execution_count": 48
        },
        {
          "output_type": "display_data",
          "data": {
            "image/png": "[encoded data removed]",
            "text/plain": [
              "<Figure size 432x288 with 1 Axes>"
            ]
          },
          "metadata": {
            "needs_background": "light"
          }
        }
      ]
    },
    {
      "cell_type": "code",
      "metadata": {
        "colab": {
          "base_uri": "https://localhost:8080/"
        },
        "id": "K0aegYJHbYNc",
        "outputId": "337ae7c5-be4a-4828-c258-1f170440c458"
      },
      "source": [
        "df.imbalance.mean(), df.imbalance.median()"
      ],
      "execution_count": 49,
      "outputs": [
        {
          "output_type": "execute_result",
          "data": {
            "text/plain": [
              "(0.005478806688731975, 0.0)"
            ]
          },
          "metadata": {},
          "execution_count": 49
        }
      ]
    },
    {
      "cell_type": "code",
      "metadata": {
        "colab": {
          "base_uri": "https://localhost:8080/",
          "height": 226
        },
        "id": "DeqB9pzK2s85",
        "outputId": "028b87c2-1841-470b-d223-dd1cf1b47e73"
      },
      "source": [
        "df.head()"
      ],
      "execution_count": 50,
      "outputs": [
        {
          "output_type": "execute_result",
          "data": {
            "text/html": [
              "<div>\n",
              "<style scoped>\n",
              "    .dataframe tbody tr th:only-of-type {\n",
              "        vertical-align: middle;\n",
              "    }\n",
              "\n",
              "    .dataframe tbody tr th {\n",
              "        vertical-align: top;\n",
              "    }\n",
              "\n",
              "    .dataframe thead th {\n",
              "        text-align: right;\n",
              "    }\n",
              "</style>\n",
              "<table border=\"1\" class=\"dataframe\">\n",
              "  <thead>\n",
              "    <tr style=\"text-align: right;\">\n",
              "      <th></th>\n",
              "      <th>id</th>\n",
              "      <th>last_price</th>\n",
              "      <th>mid</th>\n",
              "      <th>opened_position_qty</th>\n",
              "      <th>closed_position_qty</th>\n",
              "      <th>transacted_qty</th>\n",
              "      <th>d_open_interest</th>\n",
              "      <th>bid1</th>\n",
              "      <th>bid2</th>\n",
              "      <th>bid3</th>\n",
              "      <th>bid4</th>\n",
              "      <th>bid5</th>\n",
              "      <th>ask1</th>\n",
              "      <th>ask2</th>\n",
              "      <th>ask3</th>\n",
              "      <th>ask4</th>\n",
              "      <th>ask5</th>\n",
              "      <th>bid1vol</th>\n",
              "      <th>bid2vol</th>\n",
              "      <th>bid3vol</th>\n",
              "      <th>bid4vol</th>\n",
              "      <th>bid5vol</th>\n",
              "      <th>ask1vol</th>\n",
              "      <th>ask2vol</th>\n",
              "      <th>ask3vol</th>\n",
              "      <th>ask4vol</th>\n",
              "      <th>ask5vol</th>\n",
              "      <th>y</th>\n",
              "      <th>total_bid_amount</th>\n",
              "      <th>total_ask_amount</th>\n",
              "      <th>imbalance</th>\n",
              "    </tr>\n",
              "  </thead>\n",
              "  <tbody>\n",
              "    <tr>\n",
              "      <th>0</th>\n",
              "      <td>0</td>\n",
              "      <td>3842.4</td>\n",
              "      <td>3842.6</td>\n",
              "      <td>NaN</td>\n",
              "      <td>NaN</td>\n",
              "      <td>103.0</td>\n",
              "      <td>0</td>\n",
              "      <td>3842.4</td>\n",
              "      <td>3842.0</td>\n",
              "      <td>3841.8</td>\n",
              "      <td>3841.0</td>\n",
              "      <td>3840.4</td>\n",
              "      <td>3842.8</td>\n",
              "      <td>3843.4</td>\n",
              "      <td>3843.6</td>\n",
              "      <td>3843.8</td>\n",
              "      <td>3844.0</td>\n",
              "      <td>8</td>\n",
              "      <td>1</td>\n",
              "      <td>6</td>\n",
              "      <td>14</td>\n",
              "      <td>6</td>\n",
              "      <td>6</td>\n",
              "      <td>1</td>\n",
              "      <td>1</td>\n",
              "      <td>10</td>\n",
              "      <td>2</td>\n",
              "      <td>1</td>\n",
              "      <td>35</td>\n",
              "      <td>20</td>\n",
              "      <td>0.272727</td>\n",
              "    </tr>\n",
              "    <tr>\n",
              "      <th>1</th>\n",
              "      <td>1</td>\n",
              "      <td>3842.8</td>\n",
              "      <td>3843.4</td>\n",
              "      <td>6.0</td>\n",
              "      <td>49.0</td>\n",
              "      <td>55.0</td>\n",
              "      <td>-43</td>\n",
              "      <td>3843.0</td>\n",
              "      <td>3842.8</td>\n",
              "      <td>3842.4</td>\n",
              "      <td>3842.0</td>\n",
              "      <td>3841.8</td>\n",
              "      <td>3843.8</td>\n",
              "      <td>3844.0</td>\n",
              "      <td>3844.4</td>\n",
              "      <td>3844.6</td>\n",
              "      <td>3844.8</td>\n",
              "      <td>7</td>\n",
              "      <td>6</td>\n",
              "      <td>11</td>\n",
              "      <td>1</td>\n",
              "      <td>6</td>\n",
              "      <td>1</td>\n",
              "      <td>4</td>\n",
              "      <td>4</td>\n",
              "      <td>1</td>\n",
              "      <td>13</td>\n",
              "      <td>0</td>\n",
              "      <td>31</td>\n",
              "      <td>23</td>\n",
              "      <td>0.148148</td>\n",
              "    </tr>\n",
              "    <tr>\n",
              "      <th>2</th>\n",
              "      <td>2</td>\n",
              "      <td>3844.0</td>\n",
              "      <td>3844.3</td>\n",
              "      <td>7.0</td>\n",
              "      <td>77.0</td>\n",
              "      <td>84.0</td>\n",
              "      <td>-69</td>\n",
              "      <td>3843.8</td>\n",
              "      <td>3843.6</td>\n",
              "      <td>3843.2</td>\n",
              "      <td>3843.0</td>\n",
              "      <td>3842.8</td>\n",
              "      <td>3844.8</td>\n",
              "      <td>3845.0</td>\n",
              "      <td>3845.4</td>\n",
              "      <td>3845.6</td>\n",
              "      <td>3845.8</td>\n",
              "      <td>3</td>\n",
              "      <td>1</td>\n",
              "      <td>4</td>\n",
              "      <td>21</td>\n",
              "      <td>12</td>\n",
              "      <td>1</td>\n",
              "      <td>16</td>\n",
              "      <td>10</td>\n",
              "      <td>4</td>\n",
              "      <td>9</td>\n",
              "      <td>0</td>\n",
              "      <td>41</td>\n",
              "      <td>40</td>\n",
              "      <td>0.012346</td>\n",
              "    </tr>\n",
              "    <tr>\n",
              "      <th>3</th>\n",
              "      <td>3</td>\n",
              "      <td>3843.8</td>\n",
              "      <td>3843.4</td>\n",
              "      <td>3.0</td>\n",
              "      <td>34.0</td>\n",
              "      <td>37.0</td>\n",
              "      <td>-30</td>\n",
              "      <td>3843.0</td>\n",
              "      <td>3842.8</td>\n",
              "      <td>3842.4</td>\n",
              "      <td>3842.0</td>\n",
              "      <td>3841.4</td>\n",
              "      <td>3843.8</td>\n",
              "      <td>3844.0</td>\n",
              "      <td>3844.4</td>\n",
              "      <td>3844.6</td>\n",
              "      <td>3844.8</td>\n",
              "      <td>10</td>\n",
              "      <td>13</td>\n",
              "      <td>12</td>\n",
              "      <td>2</td>\n",
              "      <td>4</td>\n",
              "      <td>2</td>\n",
              "      <td>7</td>\n",
              "      <td>1</td>\n",
              "      <td>2</td>\n",
              "      <td>11</td>\n",
              "      <td>1</td>\n",
              "      <td>41</td>\n",
              "      <td>23</td>\n",
              "      <td>0.281250</td>\n",
              "    </tr>\n",
              "    <tr>\n",
              "      <th>4</th>\n",
              "      <td>4</td>\n",
              "      <td>3843.2</td>\n",
              "      <td>3843.1</td>\n",
              "      <td>3.0</td>\n",
              "      <td>38.0</td>\n",
              "      <td>41.0</td>\n",
              "      <td>-35</td>\n",
              "      <td>3842.8</td>\n",
              "      <td>3842.4</td>\n",
              "      <td>3842.0</td>\n",
              "      <td>3841.8</td>\n",
              "      <td>3841.4</td>\n",
              "      <td>3843.4</td>\n",
              "      <td>3844.0</td>\n",
              "      <td>3844.6</td>\n",
              "      <td>3844.8</td>\n",
              "      <td>3845.0</td>\n",
              "      <td>14</td>\n",
              "      <td>12</td>\n",
              "      <td>2</td>\n",
              "      <td>2</td>\n",
              "      <td>4</td>\n",
              "      <td>1</td>\n",
              "      <td>3</td>\n",
              "      <td>1</td>\n",
              "      <td>11</td>\n",
              "      <td>15</td>\n",
              "      <td>1</td>\n",
              "      <td>34</td>\n",
              "      <td>31</td>\n",
              "      <td>0.046154</td>\n",
              "    </tr>\n",
              "  </tbody>\n",
              "</table>\n",
              "</div>"
            ],
            "text/plain": [
              "  id  last_price     mid  ...  total_bid_amount  total_ask_amount  imbalance\n",
              "0  0      3842.4  3842.6  ...                35                20   0.272727\n",
              "1  1      3842.8  3843.4  ...                31                23   0.148148\n",
              "2  2      3844.0  3844.3  ...                41                40   0.012346\n",
              "3  3      3843.8  3843.4  ...                41                23   0.281250\n",
              "4  4      3843.2  3843.1  ...                34                31   0.046154\n",
              "\n",
              "[5 rows x 31 columns]"
            ]
          },
          "metadata": {},
          "execution_count": 50
        }
      ]
    },
    {
      "cell_type": "code",
      "metadata": {
        "colab": {
          "base_uri": "https://localhost:8080/",
          "height": 423
        },
        "id": "MvrYY6VuOohm",
        "outputId": "536129f1-08b2-499b-df63-de913782de23"
      },
      "source": [
        "df2 = df[['mid', 'imbalance']]\n",
        "df2"
      ],
      "execution_count": 51,
      "outputs": [
        {
          "output_type": "execute_result",
          "data": {
            "text/html": [
              "<div>\n",
              "<style scoped>\n",
              "    .dataframe tbody tr th:only-of-type {\n",
              "        vertical-align: middle;\n",
              "    }\n",
              "\n",
              "    .dataframe tbody tr th {\n",
              "        vertical-align: top;\n",
              "    }\n",
              "\n",
              "    .dataframe thead th {\n",
              "        text-align: right;\n",
              "    }\n",
              "</style>\n",
              "<table border=\"1\" class=\"dataframe\">\n",
              "  <thead>\n",
              "    <tr style=\"text-align: right;\">\n",
              "      <th></th>\n",
              "      <th>mid</th>\n",
              "      <th>imbalance</th>\n",
              "    </tr>\n",
              "  </thead>\n",
              "  <tbody>\n",
              "    <tr>\n",
              "      <th>0</th>\n",
              "      <td>3842.6</td>\n",
              "      <td>0.272727</td>\n",
              "    </tr>\n",
              "    <tr>\n",
              "      <th>1</th>\n",
              "      <td>3843.4</td>\n",
              "      <td>0.148148</td>\n",
              "    </tr>\n",
              "    <tr>\n",
              "      <th>2</th>\n",
              "      <td>3844.3</td>\n",
              "      <td>0.012346</td>\n",
              "    </tr>\n",
              "    <tr>\n",
              "      <th>3</th>\n",
              "      <td>3843.4</td>\n",
              "      <td>0.281250</td>\n",
              "    </tr>\n",
              "    <tr>\n",
              "      <th>4</th>\n",
              "      <td>3843.1</td>\n",
              "      <td>0.046154</td>\n",
              "    </tr>\n",
              "    <tr>\n",
              "      <th>...</th>\n",
              "      <td>...</td>\n",
              "      <td>...</td>\n",
              "    </tr>\n",
              "    <tr>\n",
              "      <th>592375</th>\n",
              "      <td>4110.3</td>\n",
              "      <td>-0.487179</td>\n",
              "    </tr>\n",
              "    <tr>\n",
              "      <th>592376</th>\n",
              "      <td>4110.5</td>\n",
              "      <td>-0.265306</td>\n",
              "    </tr>\n",
              "    <tr>\n",
              "      <th>592377</th>\n",
              "      <td>4110.5</td>\n",
              "      <td>-0.265306</td>\n",
              "    </tr>\n",
              "    <tr>\n",
              "      <th>592378</th>\n",
              "      <td>4110.5</td>\n",
              "      <td>-0.265306</td>\n",
              "    </tr>\n",
              "    <tr>\n",
              "      <th>592379</th>\n",
              "      <td>4110.5</td>\n",
              "      <td>-0.265306</td>\n",
              "    </tr>\n",
              "  </tbody>\n",
              "</table>\n",
              "<p>592380 rows × 2 columns</p>\n",
              "</div>"
            ],
            "text/plain": [
              "           mid  imbalance\n",
              "0       3842.6   0.272727\n",
              "1       3843.4   0.148148\n",
              "2       3844.3   0.012346\n",
              "3       3843.4   0.281250\n",
              "4       3843.1   0.046154\n",
              "...        ...        ...\n",
              "592375  4110.3  -0.487179\n",
              "592376  4110.5  -0.265306\n",
              "592377  4110.5  -0.265306\n",
              "592378  4110.5  -0.265306\n",
              "592379  4110.5  -0.265306\n",
              "\n",
              "[592380 rows x 2 columns]"
            ]
          },
          "metadata": {},
          "execution_count": 51
        }
      ]
    },
    {
      "cell_type": "markdown",
      "metadata": {
        "id": "ta5rTMaQwfK1"
      },
      "source": [
        "### ***mid price & imbalance distribution ***"
      ]
    },
    {
      "cell_type": "code",
      "metadata": {
        "colab": {
          "base_uri": "https://localhost:8080/",
          "height": 474
        },
        "id": "qkDBD3PQT-7J",
        "outputId": "1980eb4e-cd01-4acf-9816-cc774f9efad7"
      },
      "source": [
        "fig, ax1 = plt.subplots(figsize=(10,7))\n",
        "color_1 = 'tab:blue'\n",
        "ax1.set_title('mid', fontsize=10)\n",
        "ax1.set_xlabel('orderbook snapshot')\n",
        "ax1.set_ylabel('mid', fontsize=14, color=color_1)\n",
        "ax1.plot(df2.index, df2.mid, color=color_1)\n",
        "\n",
        "ax2 = ax1.twinx()\n",
        "color_2 = 'tab:red'\n",
        "ax2.set_ylabel('imbalance', fontsize=10, color=color_2)\n",
        "ax2.plot(df2.index, df2.imbalance, color=color_2)\n",
        "ax2.tick_params(axis='y', labelcolor=color_2)\n",
        "\n",
        "plt.xlim([0,10000])\n"
      ],
      "execution_count": 52,
      "outputs": [
        {
          "output_type": "execute_result",
          "data": {
            "text/plain": [
              "(0.0, 10000.0)"
            ]
          },
          "metadata": {},
          "execution_count": 52
        },
        {
          "output_type": "display_data",
          "data": {
            "image/png": "[encoded data removed]",
            "text/plain": [
              "<Figure size 720x504 with 2 Axes>"
            ]
          },
          "metadata": {
            "needs_background": "light"
          }
        }
      ]
    },
    {
      "cell_type": "code",
      "metadata": {
        "colab": {
          "base_uri": "https://localhost:8080/",
          "height": 112
        },
        "id": "Y_ASJT-E4EyG",
        "outputId": "54a9c5b2-e4be-41a3-a9a2-57c194f2f5d4"
      },
      "source": [
        "df2.corr()"
      ],
      "execution_count": 66,
      "outputs": [
        {
          "output_type": "execute_result",
          "data": {
            "text/html": [
              "<div>\n",
              "<style scoped>\n",
              "    .dataframe tbody tr th:only-of-type {\n",
              "        vertical-align: middle;\n",
              "    }\n",
              "\n",
              "    .dataframe tbody tr th {\n",
              "        vertical-align: top;\n",
              "    }\n",
              "\n",
              "    .dataframe thead th {\n",
              "        text-align: right;\n",
              "    }\n",
              "</style>\n",
              "<table border=\"1\" class=\"dataframe\">\n",
              "  <thead>\n",
              "    <tr style=\"text-align: right;\">\n",
              "      <th></th>\n",
              "      <th>mid</th>\n",
              "      <th>imbalance</th>\n",
              "    </tr>\n",
              "  </thead>\n",
              "  <tbody>\n",
              "    <tr>\n",
              "      <th>mid</th>\n",
              "      <td>1.00000</td>\n",
              "      <td>-0.01632</td>\n",
              "    </tr>\n",
              "    <tr>\n",
              "      <th>imbalance</th>\n",
              "      <td>-0.01632</td>\n",
              "      <td>1.00000</td>\n",
              "    </tr>\n",
              "  </tbody>\n",
              "</table>\n",
              "</div>"
            ],
            "text/plain": [
              "               mid  imbalance\n",
              "mid        1.00000   -0.01632\n",
              "imbalance -0.01632    1.00000"
            ]
          },
          "metadata": {},
          "execution_count": 66
        }
      ]
    },
    {
      "cell_type": "code",
      "metadata": {
        "colab": {
          "base_uri": "https://localhost:8080/"
        },
        "id": "7L0_FMUwAw-B",
        "outputId": "e66ac4e3-b8ca-4905-d061-8c203441e78c"
      },
      "source": [
        "volumes = np.array([1000, 10000, 50000, 100000, 1000000])\n",
        "print(volumes)\n",
        "ask_volume_median = df.total_ask_amount.median() * df.mid.mean()\n",
        "bid_volume_median = df.total_bid_amount.median() * df.mid.mean()\n",
        "print(f'median ask and bid volume in orderbook: {ask_volume_median: .0f}, {bid_volume_median: .0f}. ')"
      ],
      "execution_count": 75,
      "outputs": [
        {
          "output_type": "stream",
          "name": "stdout",
          "text": [
            "[   1000   10000   50000  100000 1000000]\n",
            "median ask and bid volume in orderbook:  87244,  87244. \n"
          ]
        }
      ]
    },
    {
      "cell_type": "code",
      "metadata": {
        "id": "fiCMwDHXu26T"
      },
      "source": [
        ""
      ],
      "execution_count": null,
      "outputs": []
    }
  ]
}